{
 "cells": [
  {
   "cell_type": "markdown",
   "metadata": {},
   "source": ["# Smart Study Assistant - Exploration Notebook"]
  },
  {
   "cell_type": "code",
   "execution_count": null,
   "metadata": {},
   "outputs": [],
   "source": [
    "import pandas as pd\n",
    "df = pd.read_csv('../data/sample_data.csv')\n",
    "df.groupby('chapter')['score'].mean()"
   ]
  }
 ],
 "metadata": {
  "kernelspec": {
   "display_name": "Python 3",
   "language": "python",
   "name": "python3"
  },
  "language_info": {
   "name": "python"
  }
 },
 "nbformat": 4,
 "nbformat_minor": 2
}